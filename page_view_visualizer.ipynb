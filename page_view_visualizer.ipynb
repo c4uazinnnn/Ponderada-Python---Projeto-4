{
 "cells": [
  {
   "cell_type": "markdown",
   "id": "ff2c38f3",
   "metadata": {},
   "source": [
    "# Page View Time Series Visualizer\n",
    "\n",
    "This notebook implements the FreeCodeCamp project for visualizing time series of page views from the freeCodeCamp forum."
   ]
  },
  {
   "cell_type": "markdown",
   "id": "87b19bbc",
   "metadata": {},
   "source": [
    "## Import Libraries\n",
    "\n",
    "Import the necessary libraries for data manipulation and visualization."
   ]
  },
  {
   "cell_type": "code",
   "execution_count": null,
   "id": "9b36ca3d",
   "metadata": {},
   "outputs": [],
   "source": [
    "import matplotlib.pyplot as plt\n",
    "import pandas as pd\n",
    "import seaborn as sns\n",
    "from pandas.plotting import register_matplotlib_converters\n",
    "register_matplotlib_converters()"
   ]
  },
  {
   "cell_type": "markdown",
   "id": "4cffd66b",
   "metadata": {},
   "source": [
    "## Load the Data\n",
    "\n",
    "Load the CSV file containing page view data and set the index to date."
   ]
  },
  {
   "cell_type": "code",
   "execution_count": null,
   "id": "89887544",
   "metadata": {},
   "outputs": [],
   "source": [
    "df = pd.read_csv('fcc-forum-pageviews.csv', parse_dates=['date'], index_col='date')\n",
    "print(\"First few rows of the data:\")\n",
    "print(df.head())\n",
    "print(\"\\nDataFrame information:\")\n",
    "print(df.info())"
   ]
  },
  {
   "cell_type": "markdown",
   "id": "11e3e2aa",
   "metadata": {},
   "source": [
    "## Clean the Data\n",
    "\n",
    "Filter outliers by removing values outside the 2.5% lower and upper percentiles."
   ]
  },
  {
   "cell_type": "code",
   "execution_count": null,
   "id": "e063a569",
   "metadata": {},
   "outputs": [],
   "source": [
    "lower = df['value'].quantile(0.025)\n",
    "upper = df['value'].quantile(0.975)\n",
    "df = df[(df['value'] >= lower) & (df['value'] <= upper)]\n",
    "print(f\"Cleaned data: {len(df)} records remaining\")"
   ]
  },
  {
   "cell_type": "markdown",
   "id": "94985325",
   "metadata": {},
   "source": [
    "## Define Visualization Functions\n",
    "\n",
    "Define the functions to create the plots as per project specifications."
   ]
  },
  {
   "cell_type": "code",
   "execution_count": null,
   "id": "dbc85558",
   "metadata": {},
   "outputs": [],
   "source": [
    "def draw_line_plot():\n",
    "    # Draw line plot\n",
    "    fig, ax = plt.subplots(figsize=(12, 6))\n",
    "    ax.plot(df.index, df['value'])\n",
    "    ax.set_title('Daily freeCodeCamp Forum Page Views 5/2016-12/2019')\n",
    "    ax.set_xlabel('Date')\n",
    "    ax.set_ylabel('Page Views')\n",
    "\n",
    "    # Save image and return fig (don't change this part)\n",
    "    fig.savefig('line_plot.png')\n",
    "    return fig\n",
    "\n",
    "def draw_bar_plot():\n",
    "    # Copy and modify data for monthly bar plot\n",
    "    df_bar = df.copy()\n",
    "    df_bar['year'] = df_bar.index.year\n",
    "    df_bar['month'] = df_bar.index.month\n",
    "    df_bar = df_bar.groupby(['year', 'month'])['value'].mean().unstack()\n",
    "\n",
    "    # Draw bar plot\n",
    "    fig = df_bar.plot(kind='bar', figsize=(12, 6)).get_figure()\n",
    "    ax = fig.axes[0]\n",
    "    ax.set_xlabel('Years')\n",
    "    ax.set_ylabel('Average Page Views')\n",
    "    ax.legend(['January', 'February', 'March', 'April', 'May', 'June', 'July', 'August', 'September', 'October', 'November', 'December'], title='Months')\n",
    "\n",
    "    # Save image and return fig (don't change this part)\n",
    "    fig.savefig('bar_plot.png')\n",
    "    return fig\n",
    "\n",
    "def draw_box_plot():\n",
    "    # Prepare data for box plots (this part is done!)\n",
    "    df_box = df.copy()\n",
    "    df_box.reset_index(inplace=True)\n",
    "    df_box['year'] = [d.year for d in df_box.date]\n",
    "    df_box['month'] = [d.strftime('%b') for d in df_box.date]\n",
    "\n",
    "    # Ensure months are in correct order\n",
    "    months_order = ['Jan', 'Feb', 'Mar', 'Apr', 'May', 'Jun', 'Jul', 'Aug', 'Sep', 'Oct', 'Nov', 'Dec']\n",
    "    df_box['month'] = pd.Categorical(df_box['month'], categories=months_order, ordered=True)\n",
    "\n",
    "    # Draw box plots (using Seaborn)\n",
    "    fig, (ax1, ax2) = plt.subplots(1, 2, figsize=(15, 6))\n",
    "    sns.boxplot(x='year', y='value', data=df_box, ax=ax1)\n",
    "    ax1.set_title('Year-wise Box Plot (Trend)')\n",
    "    ax1.set_xlabel('Year')\n",
    "    ax1.set_ylabel('Page Views')\n",
    "    sns.boxplot(x='month', y='value', data=df_box, ax=ax2)\n",
    "    ax2.set_title('Month-wise Box Plot (Seasonality)')\n",
    "    ax2.set_xlabel('Month')\n",
    "    ax2.set_ylabel('Page Views')\n",
    "\n",
    "    # Save image and return fig (don't change this part)\n",
    "    fig.savefig('box_plot.png')\n",
    "    return fig"
   ]
  },
  {
   "cell_type": "markdown",
   "id": "88f8b37b",
   "metadata": {},
   "source": [
    "## Line Plot\n",
    "\n",
    "Execute the function to create the daily line plot."
   ]
  },
  {
   "cell_type": "code",
   "execution_count": null,
   "id": "3847dd1f",
   "metadata": {},
   "outputs": [],
   "source": [
    "fig_line = draw_line_plot()\n",
    "plt.show()"
   ]
  },
  {
   "cell_type": "markdown",
   "id": "ae838876",
   "metadata": {},
   "source": [
    "## Bar Plot\n",
    "\n",
    "Execute the function to create the monthly bar plot grouped by year."
   ]
  },
  {
   "cell_type": "code",
   "execution_count": null,
   "id": "e4d9a171",
   "metadata": {},
   "outputs": [],
   "source": [
    "fig_bar = draw_bar_plot()\n",
    "plt.show()"
   ]
  },
  {
   "cell_type": "markdown",
   "id": "e4fc0907",
   "metadata": {},
   "source": [
    "## Box Plots\n",
    "\n",
    "Execute the function to create the box plots (yearly trend and monthly seasonality)."
   ]
  },
  {
   "cell_type": "code",
   "execution_count": null,
   "id": "ecd2f683",
   "metadata": {},
   "outputs": [],
   "source": [
    "fig_box = draw_box_plot()\n",
    "plt.show()"
   ]
  }
 ],
 "metadata": {
  "kernelspec": {
   "display_name": "Python 3",
   "language": "python",
   "name": "python3"
  },
  "language_info": {
   "name": "python",
   "version": "3.13.7"
  }
 },
 "nbformat": 4,
 "nbformat_minor": 5
}
